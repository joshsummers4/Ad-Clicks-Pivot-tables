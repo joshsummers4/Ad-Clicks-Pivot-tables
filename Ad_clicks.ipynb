{
 "cells": [
  {
   "cell_type": "code",
   "execution_count": 3,
   "id": "d295d333",
   "metadata": {},
   "outputs": [
    {
     "name": "stdout",
     "output_type": "stream",
     "text": [
      "                                user_id utm_source           day  \\\n",
      "0  008b7c6c-7272-471e-b90e-930d548bd8d7     google  6 - Saturday   \n",
      "1  009abb94-5e14-4b6c-bb1c-4f4df7aa7557   facebook    7 - Sunday   \n",
      "2  00f5d532-ed58-4570-b6d2-768df5f41aed    twitter   2 - Tuesday   \n",
      "3  011adc64-0f44-4fd9-a0bb-f1506d2ad439     google   2 - Tuesday   \n",
      "4  012137e6-7ae7-4649-af68-205b4702169c   facebook    7 - Sunday   \n",
      "\n",
      "  ad_click_timestamp experimental_group  \n",
      "0               7:18                  A  \n",
      "1                NaN                  B  \n",
      "2                NaN                  A  \n",
      "3                NaN                  B  \n",
      "4                NaN                  B  \n"
     ]
    }
   ],
   "source": [
    "import pandas as pd\n",
    "\n",
    "ad_clicks = pd.read_csv('ad_clicks.csv')\n",
    "print(ad_clicks.head())\n",
    "\n",
    "\n"
   ]
  },
  {
   "cell_type": "code",
   "execution_count": 4,
   "id": "810c6db1",
   "metadata": {},
   "outputs": [
    {
     "name": "stdout",
     "output_type": "stream",
     "text": [
      "  utm_source  user_id\n",
      "0      email      255\n",
      "1   facebook      504\n",
      "2     google      680\n",
      "3    twitter      215\n"
     ]
    }
   ],
   "source": [
    "#number of views per source\n",
    "views_per_source = ad_clicks.groupby('utm_source').user_id.count().reset_index()\n",
    "print(views_per_source)\n",
    "\n"
   ]
  },
  {
   "cell_type": "code",
   "execution_count": 5,
   "id": "fd59a044",
   "metadata": {},
   "outputs": [
    {
     "name": "stdout",
     "output_type": "stream",
     "text": [
      "                                user_id utm_source           day  \\\n",
      "0  008b7c6c-7272-471e-b90e-930d548bd8d7     google  6 - Saturday   \n",
      "1  009abb94-5e14-4b6c-bb1c-4f4df7aa7557   facebook    7 - Sunday   \n",
      "2  00f5d532-ed58-4570-b6d2-768df5f41aed    twitter   2 - Tuesday   \n",
      "3  011adc64-0f44-4fd9-a0bb-f1506d2ad439     google   2 - Tuesday   \n",
      "4  012137e6-7ae7-4649-af68-205b4702169c   facebook    7 - Sunday   \n",
      "\n",
      "  ad_click_timestamp experimental_group  is_click  \n",
      "0               7:18                  A      True  \n",
      "1                NaN                  B     False  \n",
      "2                NaN                  A     False  \n",
      "3                NaN                  B     False  \n",
      "4                NaN                  B     False  \n"
     ]
    }
   ],
   "source": [
    "#add column if the video was click (timestamp not null true or false)\n",
    "ad_clicks['is_click'] = ~ad_clicks.ad_click_timestamp.isnull()\n",
    "print(ad_clicks.head())\n"
   ]
  },
  {
   "cell_type": "code",
   "execution_count": 6,
   "id": "48e94e95",
   "metadata": {},
   "outputs": [
    {
     "name": "stdout",
     "output_type": "stream",
     "text": [
      "  utm_source  is_click  user_id\n",
      "0      email     False      175\n",
      "1      email      True       80\n",
      "2   facebook     False      324\n",
      "3   facebook      True      180\n",
      "4     google     False      441\n",
      "5     google      True      239\n",
      "6    twitter     False      149\n",
      "7    twitter      True       66\n",
      "is_click utm_source  False  True\n",
      "0             email    175    80\n",
      "1          facebook    324   180\n",
      "2            google    441   239\n",
      "3           twitter    149    66\n"
     ]
    }
   ],
   "source": [
    "#the percentage of people who clicked on the add by source\n",
    "#start by gourping by source and if clicked\n",
    "clicks_by_source = ad_clicks.groupby(['utm_source', 'is_click']).user_id.count().reset_index()\n",
    "print(clicks_by_source)\n",
    "\n",
    "clicks_pivot = clicks_by_source.pivot(columns='is_click', index='utm_source', values='user_id').reset_index()\n",
    "print(clicks_pivot)\n",
    "\n"
   ]
  },
  {
   "cell_type": "code",
   "execution_count": 7,
   "id": "c5dd6dcf",
   "metadata": {},
   "outputs": [
    {
     "name": "stdout",
     "output_type": "stream",
     "text": [
      "is_click utm_source  False  True  percent_clicked\n",
      "0             email    175    80         0.313725\n",
      "1          facebook    324   180         0.357143\n",
      "2            google    441   239         0.351471\n",
      "3           twitter    149    66         0.306977\n"
     ]
    }
   ],
   "source": [
    "#percentage of clicked views by source\n",
    "clicks_pivot['percent_clicked'] = clicks_pivot[True]/(clicks_pivot[False] + clicks_pivot[True])\n",
    "print(clicks_pivot)\n",
    "\n"
   ]
  },
  {
   "cell_type": "code",
   "execution_count": 8,
   "id": "54a85b9c",
   "metadata": {},
   "outputs": [
    {
     "name": "stdout",
     "output_type": "stream",
     "text": [
      "  experimental_group  user_id\n",
      "0                  A      827\n",
      "1                  B      827\n",
      "  experimental_group  is_click  user_id\n",
      "0                  A     False      517\n",
      "1                  A      True      310\n",
      "2                  B     False      572\n",
      "3                  B      True      255\n",
      "is_click experimental_group  False  True\n",
      "0                         A    517   310\n",
      "1                         B    572   255\n"
     ]
    }
   ],
   "source": [
    "#number in experiment group (A/B)\n",
    "experiment_groups = ad_clicks.groupby('experimental_group').user_id.count().reset_index()\n",
    "print(experiment_groups)\n",
    "\n",
    "# experiment group by is_clicked\n",
    "experiment_groups_clicked = ad_clicks.groupby(['experimental_group', 'is_click']).user_id.count().reset_index()\n",
    "print(experiment_groups_clicked)\n",
    "#results in a pivot table\n",
    "groups_pivot = experiment_groups_clicked.pivot(columns='is_click', index='experimental_group', values='user_id').reset_index()\n",
    "print(groups_pivot)\n",
    "\n"
   ]
  },
  {
   "cell_type": "code",
   "execution_count": 9,
   "id": "d511f8d4",
   "metadata": {},
   "outputs": [
    {
     "name": "stdout",
     "output_type": "stream",
     "text": [
      "             day  user_id\n",
      "0     1 - Monday      113\n",
      "1    2 - Tuesday      119\n",
      "2  3 - Wednesday      124\n",
      "3   4 - Thursday      116\n",
      "4     5 - Friday      128\n",
      "5   6 - Saturday      118\n",
      "6     7 - Sunday      109\n",
      "             day  user_id\n",
      "0     1 - Monday      113\n",
      "1    2 - Tuesday      119\n",
      "2  3 - Wednesday      124\n",
      "3   4 - Thursday      116\n",
      "4     5 - Friday      128\n",
      "5   6 - Saturday      118\n",
      "6     7 - Sunday      109\n"
     ]
    }
   ],
   "source": [
    "#dataframes for each expereiment group\n",
    "a_clicks = ad_clicks[ad_clicks.experimental_group == \"A\"]\n",
    "b_clicks = ad_clicks[ad_clicks.experimental_group == \"B\"]\n",
    "\n",
    "#group each by day \n",
    "a_clicks_day = a_clicks.groupby('day').user_id.count().reset_index()\n",
    "print(a_clicks_day)\n",
    "b_clicks_day = b_clicks.groupby('day').user_id.count().reset_index()\n",
    "print(b_clicks_day)\n",
    "\n"
   ]
  },
  {
   "cell_type": "code",
   "execution_count": 10,
   "id": "3e0fa191",
   "metadata": {},
   "outputs": [
    {
     "name": "stdout",
     "output_type": "stream",
     "text": [
      "             day  user_id  day_percentage\n",
      "0     1 - Monday      113            13.7\n",
      "1    2 - Tuesday      119            14.4\n",
      "2  3 - Wednesday      124            15.0\n",
      "3   4 - Thursday      116            14.0\n",
      "4     5 - Friday      128            15.5\n",
      "5   6 - Saturday      118            14.3\n",
      "6     7 - Sunday      109            13.2\n",
      "             day  user_id  day_percentage\n",
      "0     1 - Monday      113            13.7\n",
      "1    2 - Tuesday      119            14.4\n",
      "2  3 - Wednesday      124            15.0\n",
      "3   4 - Thursday      116            14.0\n",
      "4     5 - Friday      128            15.5\n",
      "5   6 - Saturday      118            14.3\n",
      "6     7 - Sunday      109            13.2\n"
     ]
    }
   ],
   "source": [
    "#percentage by day\n",
    "a_clicks_day[\"day_percentage\"] = round(a_clicks_day.user_id / a_clicks_day.user_id.sum() * 100, 1)\n",
    "print(a_clicks_day)\n",
    "b_clicks_day[\"day_percentage\"] = round(b_clicks_day.user_id / b_clicks_day.user_id.sum() * 100, 1)\n",
    "print(b_clicks_day)"
   ]
  }
 ],
 "metadata": {
  "kernelspec": {
   "display_name": "Python 3 (ipykernel)",
   "language": "python",
   "name": "python3"
  },
  "language_info": {
   "codemirror_mode": {
    "name": "ipython",
    "version": 3
   },
   "file_extension": ".py",
   "mimetype": "text/x-python",
   "name": "python",
   "nbconvert_exporter": "python",
   "pygments_lexer": "ipython3",
   "version": "3.9.7"
  }
 },
 "nbformat": 4,
 "nbformat_minor": 5
}
